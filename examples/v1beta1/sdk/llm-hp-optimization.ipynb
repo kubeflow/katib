{
 "cells": [
  {
   "cell_type": "markdown",
   "id": "58ad086d543ba3a1",
   "metadata": {},
   "source": [
    "# Explore Kubeflow Katib Hyperparamter Optimization API"
   ]
  },
  {
   "cell_type": "code",
   "execution_count": 1,
   "id": "e32879d3100139f9",
   "metadata": {
    "ExecuteTime": {
     "end_time": "2025-01-27T19:25:02.314305Z",
     "start_time": "2025-01-27T19:25:02.308576Z"
    }
   },
   "outputs": [
    {
     "name": "stdout",
     "output_type": "stream",
     "text": [
      "3.12.8 (main, Dec  3 2024, 18:42:41) [Clang 16.0.0 (clang-1600.0.26.4)]\n"
     ]
    }
   ],
   "source": [
    "import sys\n",
    "print(sys.version)"
   ]
  },
  {
   "cell_type": "code",
   "execution_count": 17,
   "id": "3dabe6d2",
   "metadata": {},
   "outputs": [
    {
     "name": "stdout",
     "output_type": "stream",
     "text": [
      "namespace/kubeflow configured\n",
      "customresourcedefinition.apiextensions.k8s.io/experiments.kubeflow.org created\n",
      "customresourcedefinition.apiextensions.k8s.io/suggestions.kubeflow.org created\n",
      "customresourcedefinition.apiextensions.k8s.io/trials.kubeflow.org created\n",
      "serviceaccount/katib-controller created\n",
      "serviceaccount/katib-ui created\n",
      "clusterrole.rbac.authorization.k8s.io/katib-controller created\n",
      "clusterrole.rbac.authorization.k8s.io/katib-ui created\n",
      "clusterrolebinding.rbac.authorization.k8s.io/katib-controller created\n",
      "clusterrolebinding.rbac.authorization.k8s.io/katib-ui created\n",
      "configmap/katib-config created\n",
      "configmap/trial-templates created\n",
      "secret/katib-mysql-secrets created\n",
      "secret/katib-webhook-cert created\n",
      "service/katib-controller created\n",
      "service/katib-db-manager created\n",
      "service/katib-mysql created\n",
      "service/katib-ui created\n",
      "persistentvolumeclaim/katib-mysql created\n",
      "deployment.apps/katib-controller created\n",
      "deployment.apps/katib-db-manager created\n",
      "deployment.apps/katib-mysql created\n",
      "deployment.apps/katib-ui created\n",
      "mutatingwebhookconfiguration.admissionregistration.k8s.io/katib.kubeflow.org created\n",
      "validatingwebhookconfiguration.admissionregistration.k8s.io/katib.kubeflow.org created\n"
     ]
    }
   ],
   "source": [
    "!kubectl apply -k \"github.com/kubeflow/katib.git/manifests/v1beta1/installs/katib-standalone?ref=master\""
   ]
  },
  {
   "cell_type": "code",
   "execution_count": 3,
   "id": "initial_id",
   "metadata": {
    "ExecuteTime": {
     "end_time": "2025-01-27T19:25:12.572178Z",
     "start_time": "2025-01-27T19:25:06.809884Z"
    },
    "collapsed": true
   },
   "outputs": [
    {
     "name": "stdout",
     "output_type": "stream",
     "text": [
      "Collecting git+https://github.com/kubeflow/katib.git#subdirectory=sdk/python/v1beta1\n",
      "  Cloning https://github.com/kubeflow/katib.git to /private/var/folders/_z/49hgcx6x4db7pjpfzjcphlcm0000gn/T/pip-req-build-kz6279aq\n",
      "  Running command git clone --filter=blob:none --quiet https://github.com/kubeflow/katib.git /private/var/folders/_z/49hgcx6x4db7pjpfzjcphlcm0000gn/T/pip-req-build-kz6279aq\n",
      "  Resolved https://github.com/kubeflow/katib.git to commit dd4acfc2ce8fb4e4e0095a49d012443e26c70b4e\n",
      "  Installing build dependencies ... \u001b[?25ldone\n",
      "\u001b[?25h  Getting requirements to build wheel ... \u001b[?25ldone\n",
      "\u001b[?25h  Preparing metadata (pyproject.toml) ... \u001b[?25ldone\n",
      "\u001b[?25hCollecting certifi>=14.05.14 (from kubeflow-katib==0.18.0rc0)\n",
      "  Using cached certifi-2025.1.31-py3-none-any.whl.metadata (2.5 kB)\n",
      "Requirement already satisfied: six>=1.10 in /Users/mahdikhashan/Library/Python/3.12/lib/python/site-packages (from kubeflow-katib==0.18.0rc0) (1.17.0)\n",
      "Collecting setuptools>=21.0.0 (from kubeflow-katib==0.18.0rc0)\n",
      "  Using cached setuptools-79.0.1-py3-none-any.whl.metadata (6.5 kB)\n",
      "Collecting urllib3>=1.15.1 (from kubeflow-katib==0.18.0rc0)\n",
      "  Downloading urllib3-2.4.0-py3-none-any.whl.metadata (6.5 kB)\n",
      "Collecting kubernetes>=27.2.0 (from kubeflow-katib==0.18.0rc0)\n",
      "  Downloading kubernetes-32.0.1-py2.py3-none-any.whl.metadata (1.7 kB)\n",
      "Collecting grpcio>=1.64.1 (from kubeflow-katib==0.18.0rc0)\n",
      "  Downloading grpcio-1.71.0-cp312-cp312-macosx_10_14_universal2.whl.metadata (3.8 kB)\n",
      "Collecting protobuf<5,>=4.21.12 (from kubeflow-katib==0.18.0rc0)\n",
      "  Downloading protobuf-4.25.7-cp37-abi3-macosx_10_9_universal2.whl.metadata (541 bytes)\n",
      "Collecting kubeflow-training==1.9.0 (from kubeflow-katib==0.18.0rc0)\n",
      "  Using cached kubeflow_training-1.9.0-py3-none-any.whl.metadata (1.7 kB)\n",
      "Collecting retrying>=1.3.3 (from kubeflow-training==1.9.0->kubeflow-katib==0.18.0rc0)\n",
      "  Using cached retrying-1.3.4-py3-none-any.whl.metadata (6.9 kB)\n",
      "Requirement already satisfied: python-dateutil>=2.5.3 in /Users/mahdikhashan/Library/Python/3.12/lib/python/site-packages (from kubernetes>=27.2.0->kubeflow-katib==0.18.0rc0) (2.9.0.post0)\n",
      "Collecting pyyaml>=5.4.1 (from kubernetes>=27.2.0->kubeflow-katib==0.18.0rc0)\n",
      "  Using cached PyYAML-6.0.2-cp312-cp312-macosx_11_0_arm64.whl.metadata (2.1 kB)\n",
      "Collecting google-auth>=1.0.1 (from kubernetes>=27.2.0->kubeflow-katib==0.18.0rc0)\n",
      "  Downloading google_auth-2.39.0-py2.py3-none-any.whl.metadata (6.2 kB)\n",
      "Collecting websocket-client!=0.40.0,!=0.41.*,!=0.42.*,>=0.32.0 (from kubernetes>=27.2.0->kubeflow-katib==0.18.0rc0)\n",
      "  Using cached websocket_client-1.8.0-py3-none-any.whl.metadata (8.0 kB)\n",
      "Collecting requests (from kubernetes>=27.2.0->kubeflow-katib==0.18.0rc0)\n",
      "  Using cached requests-2.32.3-py3-none-any.whl.metadata (4.6 kB)\n",
      "Collecting requests-oauthlib (from kubernetes>=27.2.0->kubeflow-katib==0.18.0rc0)\n",
      "  Using cached requests_oauthlib-2.0.0-py2.py3-none-any.whl.metadata (11 kB)\n",
      "Collecting oauthlib>=3.2.2 (from kubernetes>=27.2.0->kubeflow-katib==0.18.0rc0)\n",
      "  Using cached oauthlib-3.2.2-py3-none-any.whl.metadata (7.5 kB)\n",
      "Collecting durationpy>=0.7 (from kubernetes>=27.2.0->kubeflow-katib==0.18.0rc0)\n",
      "  Using cached durationpy-0.9-py3-none-any.whl.metadata (338 bytes)\n",
      "Collecting cachetools<6.0,>=2.0.0 (from google-auth>=1.0.1->kubernetes>=27.2.0->kubeflow-katib==0.18.0rc0)\n",
      "  Downloading cachetools-5.5.2-py3-none-any.whl.metadata (5.4 kB)\n",
      "Collecting pyasn1-modules>=0.2.1 (from google-auth>=1.0.1->kubernetes>=27.2.0->kubeflow-katib==0.18.0rc0)\n",
      "  Downloading pyasn1_modules-0.4.2-py3-none-any.whl.metadata (3.5 kB)\n",
      "Collecting rsa<5,>=3.1.4 (from google-auth>=1.0.1->kubernetes>=27.2.0->kubeflow-katib==0.18.0rc0)\n",
      "  Downloading rsa-4.9.1-py3-none-any.whl.metadata (5.6 kB)\n",
      "Collecting charset-normalizer<4,>=2 (from requests->kubernetes>=27.2.0->kubeflow-katib==0.18.0rc0)\n",
      "  Using cached charset_normalizer-3.4.1-cp312-cp312-macosx_10_13_universal2.whl.metadata (35 kB)\n",
      "Collecting idna<4,>=2.5 (from requests->kubernetes>=27.2.0->kubeflow-katib==0.18.0rc0)\n",
      "  Using cached idna-3.10-py3-none-any.whl.metadata (10 kB)\n",
      "Collecting pyasn1<0.7.0,>=0.6.1 (from pyasn1-modules>=0.2.1->google-auth>=1.0.1->kubernetes>=27.2.0->kubeflow-katib==0.18.0rc0)\n",
      "  Using cached pyasn1-0.6.1-py3-none-any.whl.metadata (8.4 kB)\n",
      "Using cached kubeflow_training-1.9.0-py3-none-any.whl (111 kB)\n",
      "Using cached certifi-2025.1.31-py3-none-any.whl (166 kB)\n",
      "Downloading grpcio-1.71.0-cp312-cp312-macosx_10_14_universal2.whl (11.3 MB)\n",
      "\u001b[2K   \u001b[90m━━━━━━━━━━━━━━━━━━━━━━━━━━━━━━━━━━━━━━━━\u001b[0m \u001b[32m11.3/11.3 MB\u001b[0m \u001b[31m16.3 MB/s\u001b[0m eta \u001b[36m0:00:00\u001b[0ma \u001b[36m0:00:01\u001b[0m\n",
      "\u001b[?25hDownloading kubernetes-32.0.1-py2.py3-none-any.whl (2.0 MB)\n",
      "\u001b[2K   \u001b[90m━━━━━━━━━━━━━━━━━━━━━━━━━━━━━━━━━━━━━━━━\u001b[0m \u001b[32m2.0/2.0 MB\u001b[0m \u001b[31m15.7 MB/s\u001b[0m eta \u001b[36m0:00:00\u001b[0m\n",
      "\u001b[?25hDownloading protobuf-4.25.7-cp37-abi3-macosx_10_9_universal2.whl (394 kB)\n",
      "Using cached setuptools-79.0.1-py3-none-any.whl (1.3 MB)\n",
      "Downloading urllib3-2.4.0-py3-none-any.whl (128 kB)\n",
      "Using cached durationpy-0.9-py3-none-any.whl (3.5 kB)\n",
      "Downloading google_auth-2.39.0-py2.py3-none-any.whl (212 kB)\n",
      "Using cached oauthlib-3.2.2-py3-none-any.whl (151 kB)\n",
      "Using cached PyYAML-6.0.2-cp312-cp312-macosx_11_0_arm64.whl (173 kB)\n",
      "Using cached retrying-1.3.4-py3-none-any.whl (11 kB)\n",
      "Using cached websocket_client-1.8.0-py3-none-any.whl (58 kB)\n",
      "Using cached requests-2.32.3-py3-none-any.whl (64 kB)\n",
      "Using cached requests_oauthlib-2.0.0-py2.py3-none-any.whl (24 kB)\n",
      "Downloading cachetools-5.5.2-py3-none-any.whl (10 kB)\n",
      "Using cached charset_normalizer-3.4.1-cp312-cp312-macosx_10_13_universal2.whl (196 kB)\n",
      "Using cached idna-3.10-py3-none-any.whl (70 kB)\n",
      "Downloading pyasn1_modules-0.4.2-py3-none-any.whl (181 kB)\n",
      "Downloading rsa-4.9.1-py3-none-any.whl (34 kB)\n",
      "Using cached pyasn1-0.6.1-py3-none-any.whl (83 kB)\n",
      "Building wheels for collected packages: kubeflow-katib\n",
      "  Building wheel for kubeflow-katib (pyproject.toml) ... \u001b[?25ldone\n",
      "\u001b[?25h  Created wheel for kubeflow-katib: filename=kubeflow_katib-0.18.0rc0-py3-none-any.whl size=115998 sha256=b4120dc956f9dd2b9089c7e2b92ee4f4262e100b7072ead69069259222b6a4fe\n",
      "  Stored in directory: /private/var/folders/_z/49hgcx6x4db7pjpfzjcphlcm0000gn/T/pip-ephem-wheel-cache-k5zw3slb/wheels/f7/05/0b/21f77a136c98ebaa675c41d287fa99f81204063bf75aff1ace\n",
      "Successfully built kubeflow-katib\n",
      "Installing collected packages: durationpy, websocket-client, urllib3, setuptools, retrying, pyyaml, pyasn1, protobuf, oauthlib, idna, grpcio, charset-normalizer, certifi, cachetools, rsa, requests, pyasn1-modules, requests-oauthlib, google-auth, kubernetes, kubeflow-training, kubeflow-katib\n",
      "Successfully installed cachetools-5.5.2 certifi-2025.1.31 charset-normalizer-3.4.1 durationpy-0.9 google-auth-2.39.0 grpcio-1.71.0 idna-3.10 kubeflow-katib-0.18.0rc0 kubeflow-training-1.9.0 kubernetes-32.0.1 oauthlib-3.2.2 protobuf-4.25.7 pyasn1-0.6.1 pyasn1-modules-0.4.2 pyyaml-6.0.2 requests-2.32.3 requests-oauthlib-2.0.0 retrying-1.3.4 rsa-4.9.1 setuptools-79.0.1 urllib3-2.4.0 websocket-client-1.8.0\n",
      "Note: you may need to restart the kernel to use updated packages.\n",
      "zsh:1: command not found: --break-system-packages\n",
      "Note: you may need to restart the kernel to use updated packages.\n"
     ]
    }
   ],
   "source": [
    "%pip install git+https://github.com/kubeflow/katib.git#subdirectory=sdk/python/v1beta1 --break-system-packages\n",
    "%pip install git+https://github.com/kubeflow/trainer.git@pr-2576#egg=trainer-sdk&subdirectory=sdk/python --break-system-packages"
   ]
  },
  {
   "cell_type": "code",
   "execution_count": 7,
   "id": "1cd9f378653acfd0",
   "metadata": {
    "ExecuteTime": {
     "end_time": "2025-01-17T12:20:19.685905Z",
     "start_time": "2025-01-17T12:20:18.650415Z"
    }
   },
   "outputs": [
    {
     "name": "stdout",
     "output_type": "stream",
     "text": [
      "Collecting transformers\n",
      "  Downloading transformers-4.51.3-py3-none-any.whl.metadata (38 kB)\n",
      "Collecting peft\n",
      "  Downloading peft-0.15.2-py3-none-any.whl.metadata (13 kB)\n",
      "Collecting filelock (from transformers)\n",
      "  Downloading filelock-3.18.0-py3-none-any.whl.metadata (2.9 kB)\n",
      "Collecting huggingface-hub<1.0,>=0.30.0 (from transformers)\n",
      "  Downloading huggingface_hub-0.30.2-py3-none-any.whl.metadata (13 kB)\n",
      "Collecting numpy>=1.17 (from transformers)\n",
      "  Downloading numpy-2.2.5-cp312-cp312-macosx_14_0_arm64.whl.metadata (62 kB)\n",
      "Requirement already satisfied: packaging>=20.0 in /Users/mahdikhashan/Library/Python/3.12/lib/python/site-packages (from transformers) (25.0)\n",
      "Requirement already satisfied: pyyaml>=5.1 in /opt/homebrew/lib/python3.12/site-packages (from transformers) (6.0.2)\n",
      "Collecting regex!=2019.12.17 (from transformers)\n",
      "  Using cached regex-2024.11.6-cp312-cp312-macosx_11_0_arm64.whl.metadata (40 kB)\n",
      "Requirement already satisfied: requests in /opt/homebrew/lib/python3.12/site-packages (from transformers) (2.32.3)\n",
      "Collecting tokenizers<0.22,>=0.21 (from transformers)\n",
      "  Downloading tokenizers-0.21.1-cp39-abi3-macosx_11_0_arm64.whl.metadata (6.8 kB)\n",
      "Collecting safetensors>=0.4.3 (from transformers)\n",
      "  Downloading safetensors-0.5.3-cp38-abi3-macosx_11_0_arm64.whl.metadata (3.8 kB)\n",
      "Collecting tqdm>=4.27 (from transformers)\n",
      "  Using cached tqdm-4.67.1-py3-none-any.whl.metadata (57 kB)\n",
      "Requirement already satisfied: psutil in /Users/mahdikhashan/Library/Python/3.12/lib/python/site-packages (from peft) (7.0.0)\n",
      "Collecting torch>=1.13.0 (from peft)\n",
      "  Downloading torch-2.7.0-cp312-none-macosx_11_0_arm64.whl.metadata (29 kB)\n",
      "Collecting accelerate>=0.21.0 (from peft)\n",
      "  Downloading accelerate-1.6.0-py3-none-any.whl.metadata (19 kB)\n",
      "Collecting fsspec>=2023.5.0 (from huggingface-hub<1.0,>=0.30.0->transformers)\n",
      "  Using cached fsspec-2025.3.2-py3-none-any.whl.metadata (11 kB)\n",
      "Collecting typing-extensions>=3.7.4.3 (from huggingface-hub<1.0,>=0.30.0->transformers)\n",
      "  Downloading typing_extensions-4.13.2-py3-none-any.whl.metadata (3.0 kB)\n",
      "Requirement already satisfied: setuptools in /opt/homebrew/lib/python3.12/site-packages (from torch>=1.13.0->peft) (79.0.1)\n",
      "Collecting sympy>=1.13.3 (from torch>=1.13.0->peft)\n",
      "  Downloading sympy-1.13.3-py3-none-any.whl.metadata (12 kB)\n",
      "Collecting networkx (from torch>=1.13.0->peft)\n",
      "  Using cached networkx-3.4.2-py3-none-any.whl.metadata (6.3 kB)\n",
      "Collecting jinja2 (from torch>=1.13.0->peft)\n",
      "  Using cached jinja2-3.1.6-py3-none-any.whl.metadata (2.9 kB)\n",
      "Requirement already satisfied: charset-normalizer<4,>=2 in /opt/homebrew/lib/python3.12/site-packages (from requests->transformers) (3.4.1)\n",
      "Requirement already satisfied: idna<4,>=2.5 in /opt/homebrew/lib/python3.12/site-packages (from requests->transformers) (3.10)\n",
      "Requirement already satisfied: urllib3<3,>=1.21.1 in /opt/homebrew/lib/python3.12/site-packages (from requests->transformers) (2.4.0)\n",
      "Requirement already satisfied: certifi>=2017.4.17 in /opt/homebrew/lib/python3.12/site-packages (from requests->transformers) (2025.1.31)\n",
      "Collecting mpmath<1.4,>=1.1.0 (from sympy>=1.13.3->torch>=1.13.0->peft)\n",
      "  Using cached mpmath-1.3.0-py3-none-any.whl.metadata (8.6 kB)\n",
      "Collecting MarkupSafe>=2.0 (from jinja2->torch>=1.13.0->peft)\n",
      "  Using cached MarkupSafe-3.0.2-cp312-cp312-macosx_11_0_arm64.whl.metadata (4.0 kB)\n",
      "Downloading transformers-4.51.3-py3-none-any.whl (10.4 MB)\n",
      "\u001b[2K   \u001b[90m━━━━━━━━━━━━━━━━━━━━━━━━━━━━━━━━━━━━━━━━\u001b[0m \u001b[32m10.4/10.4 MB\u001b[0m \u001b[31m18.1 MB/s\u001b[0m eta \u001b[36m0:00:00\u001b[0m \u001b[36m0:00:01\u001b[0m\n",
      "\u001b[?25hDownloading peft-0.15.2-py3-none-any.whl (411 kB)\n",
      "Downloading accelerate-1.6.0-py3-none-any.whl (354 kB)\n",
      "Downloading huggingface_hub-0.30.2-py3-none-any.whl (481 kB)\n",
      "Downloading numpy-2.2.5-cp312-cp312-macosx_14_0_arm64.whl (5.2 MB)\n",
      "\u001b[2K   \u001b[90m━━━━━━━━━━━━━━━━━━━━━━━━━━━━━━━━━━━━━━━━\u001b[0m \u001b[32m5.2/5.2 MB\u001b[0m \u001b[31m18.3 MB/s\u001b[0m eta \u001b[36m0:00:00\u001b[0ma \u001b[36m0:00:01\u001b[0m\n",
      "\u001b[?25hUsing cached regex-2024.11.6-cp312-cp312-macosx_11_0_arm64.whl (284 kB)\n",
      "Downloading safetensors-0.5.3-cp38-abi3-macosx_11_0_arm64.whl (418 kB)\n",
      "Downloading tokenizers-0.21.1-cp39-abi3-macosx_11_0_arm64.whl (2.7 MB)\n",
      "\u001b[2K   \u001b[90m━━━━━━━━━━━━━━━━━━━━━━━━━━━━━━━━━━━━━━━━\u001b[0m \u001b[32m2.7/2.7 MB\u001b[0m \u001b[31m18.2 MB/s\u001b[0m eta \u001b[36m0:00:00\u001b[0m\n",
      "\u001b[?25hDownloading torch-2.7.0-cp312-none-macosx_11_0_arm64.whl (68.6 MB)\n",
      "\u001b[2K   \u001b[90m━━━━━━━━━━━━━━━━━━━━━━━━━━━━━━━━━━━━━━━━\u001b[0m \u001b[32m68.6/68.6 MB\u001b[0m \u001b[31m21.1 MB/s\u001b[0m eta \u001b[36m0:00:00\u001b[0m00:01\u001b[0m00:01\u001b[0m\n",
      "\u001b[?25hUsing cached tqdm-4.67.1-py3-none-any.whl (78 kB)\n",
      "Downloading filelock-3.18.0-py3-none-any.whl (16 kB)\n",
      "Using cached fsspec-2025.3.2-py3-none-any.whl (194 kB)\n",
      "Downloading sympy-1.13.3-py3-none-any.whl (6.2 MB)\n",
      "\u001b[2K   \u001b[90m━━━━━━━━━━━━━━━━━━━━━━━━━━━━━━━━━━━━━━━━\u001b[0m \u001b[32m6.2/6.2 MB\u001b[0m \u001b[31m14.9 MB/s\u001b[0m eta \u001b[36m0:00:00\u001b[0ma \u001b[36m0:00:01\u001b[0m\n",
      "\u001b[?25hDownloading typing_extensions-4.13.2-py3-none-any.whl (45 kB)\n",
      "Using cached jinja2-3.1.6-py3-none-any.whl (134 kB)\n",
      "Using cached networkx-3.4.2-py3-none-any.whl (1.7 MB)\n",
      "Using cached MarkupSafe-3.0.2-cp312-cp312-macosx_11_0_arm64.whl (12 kB)\n",
      "Using cached mpmath-1.3.0-py3-none-any.whl (536 kB)\n",
      "Installing collected packages: mpmath, typing-extensions, tqdm, sympy, safetensors, regex, numpy, networkx, MarkupSafe, fsspec, filelock, jinja2, huggingface-hub, torch, tokenizers, transformers, accelerate, peft\n",
      "Successfully installed MarkupSafe-3.0.2 accelerate-1.6.0 filelock-3.18.0 fsspec-2025.3.2 huggingface-hub-0.30.2 jinja2-3.1.6 mpmath-1.3.0 networkx-3.4.2 numpy-2.2.5 peft-0.15.2 regex-2024.11.6 safetensors-0.5.3 sympy-1.13.3 tokenizers-0.21.1 torch-2.7.0 tqdm-4.67.1 transformers-4.51.3 typing-extensions-4.13.2\n",
      "Note: you may need to restart the kernel to use updated packages.\n"
     ]
    }
   ],
   "source": [
    "# i assume after the package updates in this pr, i don't need to update them manually\n",
    "%pip install transformers peft --break-system-packages"
   ]
  },
  {
   "cell_type": "code",
   "execution_count": 20,
   "id": "f785c7083c5c90ba",
   "metadata": {
    "ExecuteTime": {
     "end_time": "2025-01-16T14:24:28.811618Z",
     "start_time": "2025-01-16T14:24:28.787993Z"
    }
   },
   "outputs": [],
   "source": [
    "from kubeflow.katib import TrainerResources\n",
    "\n",
    "\n",
    "resources_per_trial = TrainerResources(\n",
    "    num_workers=1,                    # Number of distributed workers\n",
    "    num_procs_per_worker=1,           # Processes per worker\n",
    "    resources_per_worker={            # Resource allocation per worker\n",
    "        \"gpu\": 0,                     # Number of GPUs\n",
    "        \"cpu\": 1,                     # Number of CPUs\n",
    "        \"memory\": \"1G\",              # Memory allocation\n",
    "    },\n",
    ")"
   ]
  },
  {
   "cell_type": "code",
   "execution_count": 8,
   "id": "1446506988a7b011",
   "metadata": {
    "ExecuteTime": {
     "end_time": "2025-01-17T12:20:49.638178Z",
     "start_time": "2025-01-17T12:20:49.630290Z"
    }
   },
   "outputs": [
    {
     "name": "stderr",
     "output_type": "stream",
     "text": [
      "/opt/homebrew/lib/python3.12/site-packages/tqdm/auto.py:21: TqdmWarning: IProgress not found. Please update jupyter and ipywidgets. See https://ipywidgets.readthedocs.io/en/stable/user_install.html\n",
      "  from .autonotebook import tqdm as notebook_tqdm\n"
     ]
    }
   ],
   "source": [
    "import kubeflow.katib as katib\n",
    "from kubeflow.katib import KatibClient\n",
    "\n",
    "from transformers import AutoModelForSequenceClassification, TrainingArguments\n",
    "from peft import LoraConfig\n",
    "\n",
    "from kubeflow.storage_initializer.hugging_face import (\n",
    "    HuggingFaceModelParams,\n",
    "    HuggingFaceDatasetParams,\n",
    "    HuggingFaceTrainerParams,\n",
    ")"
   ]
  },
  {
   "cell_type": "code",
   "execution_count": 26,
   "id": "45c5a2476e1bffb7",
   "metadata": {
    "ExecuteTime": {
     "end_time": "2025-01-17T12:21:44.148523Z",
     "start_time": "2025-01-17T12:21:44.123292Z"
    }
   },
   "outputs": [],
   "source": [
    "hf_model = HuggingFaceModelParams(\n",
    "    model_uri = \"hf://meta-llama/Llama-3.2-1B\",\n",
    "    transformer_type = AutoModelForSequenceClassification,\n",
    ")\n",
    "\n",
    "# Train the model on 1 movie reviews from imdb\n",
    "# https://huggingface.co/datasets/stanfordnlp/imdb\n",
    "hf_dataset = HuggingFaceDatasetParams(\n",
    "    repo_id = \"imdb\",\n",
    "    split = \"train[:1]\",\n",
    ")\n",
    "\n",
    "hf_tuning_parameters = HuggingFaceTrainerParams(\n",
    "    training_parameters = TrainingArguments(\n",
    "        output_dir = \"results\",\n",
    "        save_strategy = \"no\",\n",
    "        hub_strategy=\"all_checkpoints\",\n",
    "        learning_rate = 1e-05, #katib.search.double(min=1e-05, max=5e-05),\n",
    "        num_train_epochs=1,\n",
    "    ),\n",
    "    lora_config=LoraConfig(\n",
    "        r = 8,\n",
    "        lora_alpha=8,\n",
    "        lora_dropout=0.1,\n",
    "        bias=\"none\",\n",
    "    )\n",
    ")"
   ]
  },
  {
   "cell_type": "code",
   "execution_count": 16,
   "id": "c7995d6934399e6c",
   "metadata": {
    "ExecuteTime": {
     "end_time": "2025-01-17T12:21:45.340258Z",
     "start_time": "2025-01-17T12:21:44.781590Z"
    }
   },
   "outputs": [],
   "source": [
    "cl = KatibClient(namespace=\"kubeflow\")"
   ]
  },
  {
   "cell_type": "code",
   "execution_count": 25,
   "id": "5a519aa3bcd8ce5",
   "metadata": {
    "ExecuteTime": {
     "end_time": "2025-01-17T12:21:52.888509Z",
     "start_time": "2025-01-17T12:21:52.362248Z"
    }
   },
   "outputs": [
    {
     "name": "stdout",
     "output_type": "stream",
     "text": [
      "Thank you for using `tune` API for LLM hyperparameter optimization. This feature is in the alpha stage. Kubeflow community is looking for your feedback. Please share your experience via #kubeflow-katib Slack channel or the Kubeflow Katib GitHub.\n",
      "PVC 'testllm' already exists in namespace kubeflow.\n"
     ]
    },
    {
     "ename": "TypeError",
     "evalue": "Object of type LoraRuntimeConfig is not JSON serializable",
     "output_type": "error",
     "traceback": [
      "\u001b[31m---------------------------------------------------------------------------\u001b[39m",
      "\u001b[31mTypeError\u001b[39m                                 Traceback (most recent call last)",
      "\u001b[36mCell\u001b[39m\u001b[36m \u001b[39m\u001b[32mIn[25]\u001b[39m\u001b[32m, line 3\u001b[39m\n\u001b[32m      1\u001b[39m \u001b[38;5;66;03m# Fine-tuning for Binary Classification\u001b[39;00m\n\u001b[32m      2\u001b[39m exp_name = \u001b[33m\"\u001b[39m\u001b[33mtestllm\u001b[39m\u001b[33m\"\u001b[39m\n\u001b[32m----> \u001b[39m\u001b[32m3\u001b[39m \u001b[43mcl\u001b[49m\u001b[43m.\u001b[49m\u001b[43mtune\u001b[49m\u001b[43m(\u001b[49m\n\u001b[32m      4\u001b[39m \u001b[43m    \u001b[49m\u001b[43mname\u001b[49m\u001b[43m \u001b[49m\u001b[43m=\u001b[49m\u001b[43m \u001b[49m\u001b[43mexp_name\u001b[49m\u001b[43m,\u001b[49m\n\u001b[32m      5\u001b[39m \u001b[43m    \u001b[49m\u001b[43mmodel_provider_parameters\u001b[49m\u001b[43m \u001b[49m\u001b[43m=\u001b[49m\u001b[43m \u001b[49m\u001b[43mhf_model\u001b[49m\u001b[43m,\u001b[49m\n\u001b[32m      6\u001b[39m \u001b[43m    \u001b[49m\u001b[43mdataset_provider_parameters\u001b[49m\u001b[43m \u001b[49m\u001b[43m=\u001b[49m\u001b[43m \u001b[49m\u001b[43mhf_dataset\u001b[49m\u001b[43m,\u001b[49m\n\u001b[32m      7\u001b[39m \u001b[43m    \u001b[49m\u001b[43mtrainer_parameters\u001b[49m\u001b[43m \u001b[49m\u001b[43m=\u001b[49m\u001b[43m \u001b[49m\u001b[43mhf_tuning_parameters\u001b[49m\u001b[43m,\u001b[49m\n\u001b[32m      8\u001b[39m \u001b[43m    \u001b[49m\u001b[43mobjective_metric_name\u001b[49m\u001b[43m \u001b[49m\u001b[43m=\u001b[49m\u001b[43m \u001b[49m\u001b[33;43m\"\u001b[39;49m\u001b[33;43mtrain_loss\u001b[39;49m\u001b[33;43m\"\u001b[39;49m\u001b[43m,\u001b[49m\n\u001b[32m      9\u001b[39m \u001b[43m    \u001b[49m\u001b[43mobjective_type\u001b[49m\u001b[43m \u001b[49m\u001b[43m=\u001b[49m\u001b[43m \u001b[49m\u001b[33;43m\"\u001b[39;49m\u001b[33;43mminimize\u001b[39;49m\u001b[33;43m\"\u001b[39;49m\u001b[43m,\u001b[49m\n\u001b[32m     10\u001b[39m \u001b[43m    \u001b[49m\u001b[43malgorithm_name\u001b[49m\u001b[43m \u001b[49m\u001b[43m=\u001b[49m\u001b[43m \u001b[49m\u001b[33;43m\"\u001b[39;49m\u001b[33;43mrandom\u001b[39;49m\u001b[33;43m\"\u001b[39;49m\u001b[43m,\u001b[49m\n\u001b[32m     11\u001b[39m \u001b[43m    \u001b[49m\u001b[43mmax_trial_count\u001b[49m\u001b[43m \u001b[49m\u001b[43m=\u001b[49m\u001b[43m \u001b[49m\u001b[32;43m10\u001b[39;49m\u001b[43m,\u001b[49m\n\u001b[32m     12\u001b[39m \u001b[43m    \u001b[49m\u001b[43mparallel_trial_count\u001b[49m\u001b[43m \u001b[49m\u001b[43m=\u001b[49m\u001b[43m \u001b[49m\u001b[32;43m2\u001b[39;49m\u001b[43m,\u001b[49m\n\u001b[32m     13\u001b[39m \u001b[43m    \u001b[49m\u001b[43mresources_per_trial\u001b[49m\u001b[43m=\u001b[49m\u001b[43mresources_per_trial\u001b[49m\u001b[43m,\u001b[49m\n\u001b[32m     14\u001b[39m \u001b[43m)\u001b[49m\n\u001b[32m     16\u001b[39m cl.wait_for_experiment_condition(name=exp_name)\n\u001b[32m     18\u001b[39m \u001b[38;5;66;03m# Get the best hyperparameters.\u001b[39;00m\n",
      "\u001b[36mFile \u001b[39m\u001b[32m/opt/homebrew/lib/python3.12/site-packages/kubeflow/katib/api/katib_client.py:621\u001b[39m, in \u001b[36mKatibClient.tune\u001b[39m\u001b[34m(self, name, model_provider_parameters, dataset_provider_parameters, trainer_parameters, storage_config, objective, base_image, parameters, namespace, env_per_trial, algorithm_name, algorithm_settings, objective_metric_name, additional_metric_names, objective_type, objective_goal, max_trial_count, parallel_trial_count, max_failed_trial_count, resources_per_trial, retain_trials, packages_to_install, pip_index_url, metrics_collector_config)\u001b[39m\n\u001b[32m    615\u001b[39m trial_parameters = []\n\u001b[32m    616\u001b[39m training_args = utils.get_trial_substitutions_from_trainer(\n\u001b[32m    617\u001b[39m     trainer_parameters.training_parameters,\n\u001b[32m    618\u001b[39m     experiment_parameters,\n\u001b[32m    619\u001b[39m     trial_parameters,\n\u001b[32m    620\u001b[39m )\n\u001b[32m--> \u001b[39m\u001b[32m621\u001b[39m lora_config = \u001b[43mutils\u001b[49m\u001b[43m.\u001b[49m\u001b[43mget_trial_substitutions_from_trainer\u001b[49m\u001b[43m(\u001b[49m\n\u001b[32m    622\u001b[39m \u001b[43m    \u001b[49m\u001b[43mtrainer_parameters\u001b[49m\u001b[43m.\u001b[49m\u001b[43mlora_config\u001b[49m\u001b[43m,\u001b[49m\u001b[43m \u001b[49m\u001b[43mexperiment_parameters\u001b[49m\u001b[43m,\u001b[49m\u001b[43m \u001b[49m\u001b[43mtrial_parameters\u001b[49m\n\u001b[32m    623\u001b[39m \u001b[43m\u001b[49m\u001b[43m)\u001b[49m\n\u001b[32m    625\u001b[39m \u001b[38;5;66;03m# Create the init and the primary container.\u001b[39;00m\n\u001b[32m    626\u001b[39m init_container_spec = training_utils.get_container_spec(\n\u001b[32m    627\u001b[39m     name=STORAGE_INITIALIZER,\n\u001b[32m    628\u001b[39m     base_image=STORAGE_INITIALIZER_IMAGE,\n\u001b[32m   (...)\u001b[39m\u001b[32m    641\u001b[39m     volume_mounts=[STORAGE_INITIALIZER_VOLUME_MOUNT],\n\u001b[32m    642\u001b[39m )\n",
      "\u001b[36mFile \u001b[39m\u001b[32m/opt/homebrew/lib/python3.12/site-packages/kubeflow/katib/utils/utils.py:221\u001b[39m, in \u001b[36mget_trial_substitutions_from_trainer\u001b[39m\u001b[34m(parameters, experiment_params, trial_params)\u001b[39m\n\u001b[32m    219\u001b[39m     parameters = json.dumps(parameters.to_dict())\n\u001b[32m    220\u001b[39m \u001b[38;5;28;01melse\u001b[39;00m:\n\u001b[32m--> \u001b[39m\u001b[32m221\u001b[39m     parameters = \u001b[43mjson\u001b[49m\u001b[43m.\u001b[49m\u001b[43mdumps\u001b[49m\u001b[43m(\u001b[49m\u001b[43mparameters\u001b[49m\u001b[43m.\u001b[49m\u001b[34;43m__dict__\u001b[39;49m\u001b[43m,\u001b[49m\u001b[43m \u001b[49m\u001b[38;5;28;43mcls\u001b[39;49m\u001b[43m=\u001b[49m\u001b[43mSetEncoder\u001b[49m\u001b[43m)\u001b[49m\n\u001b[32m    223\u001b[39m \u001b[38;5;28;01mreturn\u001b[39;00m parameters\n",
      "\u001b[36mFile \u001b[39m\u001b[32m/opt/homebrew/Cellar/python@3.12/3.12.8/Frameworks/Python.framework/Versions/3.12/lib/python3.12/json/__init__.py:238\u001b[39m, in \u001b[36mdumps\u001b[39m\u001b[34m(obj, skipkeys, ensure_ascii, check_circular, allow_nan, cls, indent, separators, default, sort_keys, **kw)\u001b[39m\n\u001b[32m    232\u001b[39m \u001b[38;5;28;01mif\u001b[39;00m \u001b[38;5;28mcls\u001b[39m \u001b[38;5;129;01mis\u001b[39;00m \u001b[38;5;28;01mNone\u001b[39;00m:\n\u001b[32m    233\u001b[39m     \u001b[38;5;28mcls\u001b[39m = JSONEncoder\n\u001b[32m    234\u001b[39m \u001b[38;5;28;01mreturn\u001b[39;00m \u001b[38;5;28;43mcls\u001b[39;49m\u001b[43m(\u001b[49m\n\u001b[32m    235\u001b[39m \u001b[43m    \u001b[49m\u001b[43mskipkeys\u001b[49m\u001b[43m=\u001b[49m\u001b[43mskipkeys\u001b[49m\u001b[43m,\u001b[49m\u001b[43m \u001b[49m\u001b[43mensure_ascii\u001b[49m\u001b[43m=\u001b[49m\u001b[43mensure_ascii\u001b[49m\u001b[43m,\u001b[49m\n\u001b[32m    236\u001b[39m \u001b[43m    \u001b[49m\u001b[43mcheck_circular\u001b[49m\u001b[43m=\u001b[49m\u001b[43mcheck_circular\u001b[49m\u001b[43m,\u001b[49m\u001b[43m \u001b[49m\u001b[43mallow_nan\u001b[49m\u001b[43m=\u001b[49m\u001b[43mallow_nan\u001b[49m\u001b[43m,\u001b[49m\u001b[43m \u001b[49m\u001b[43mindent\u001b[49m\u001b[43m=\u001b[49m\u001b[43mindent\u001b[49m\u001b[43m,\u001b[49m\n\u001b[32m    237\u001b[39m \u001b[43m    \u001b[49m\u001b[43mseparators\u001b[49m\u001b[43m=\u001b[49m\u001b[43mseparators\u001b[49m\u001b[43m,\u001b[49m\u001b[43m \u001b[49m\u001b[43mdefault\u001b[49m\u001b[43m=\u001b[49m\u001b[43mdefault\u001b[49m\u001b[43m,\u001b[49m\u001b[43m \u001b[49m\u001b[43msort_keys\u001b[49m\u001b[43m=\u001b[49m\u001b[43msort_keys\u001b[49m\u001b[43m,\u001b[49m\n\u001b[32m--> \u001b[39m\u001b[32m238\u001b[39m \u001b[43m    \u001b[49m\u001b[43m*\u001b[49m\u001b[43m*\u001b[49m\u001b[43mkw\u001b[49m\u001b[43m)\u001b[49m\u001b[43m.\u001b[49m\u001b[43mencode\u001b[49m\u001b[43m(\u001b[49m\u001b[43mobj\u001b[49m\u001b[43m)\u001b[49m\n",
      "\u001b[36mFile \u001b[39m\u001b[32m/opt/homebrew/Cellar/python@3.12/3.12.8/Frameworks/Python.framework/Versions/3.12/lib/python3.12/json/encoder.py:200\u001b[39m, in \u001b[36mJSONEncoder.encode\u001b[39m\u001b[34m(self, o)\u001b[39m\n\u001b[32m    196\u001b[39m         \u001b[38;5;28;01mreturn\u001b[39;00m encode_basestring(o)\n\u001b[32m    197\u001b[39m \u001b[38;5;66;03m# This doesn't pass the iterator directly to ''.join() because the\u001b[39;00m\n\u001b[32m    198\u001b[39m \u001b[38;5;66;03m# exceptions aren't as detailed.  The list call should be roughly\u001b[39;00m\n\u001b[32m    199\u001b[39m \u001b[38;5;66;03m# equivalent to the PySequence_Fast that ''.join() would do.\u001b[39;00m\n\u001b[32m--> \u001b[39m\u001b[32m200\u001b[39m chunks = \u001b[38;5;28;43mself\u001b[39;49m\u001b[43m.\u001b[49m\u001b[43miterencode\u001b[49m\u001b[43m(\u001b[49m\u001b[43mo\u001b[49m\u001b[43m,\u001b[49m\u001b[43m \u001b[49m\u001b[43m_one_shot\u001b[49m\u001b[43m=\u001b[49m\u001b[38;5;28;43;01mTrue\u001b[39;49;00m\u001b[43m)\u001b[49m\n\u001b[32m    201\u001b[39m \u001b[38;5;28;01mif\u001b[39;00m \u001b[38;5;129;01mnot\u001b[39;00m \u001b[38;5;28misinstance\u001b[39m(chunks, (\u001b[38;5;28mlist\u001b[39m, \u001b[38;5;28mtuple\u001b[39m)):\n\u001b[32m    202\u001b[39m     chunks = \u001b[38;5;28mlist\u001b[39m(chunks)\n",
      "\u001b[36mFile \u001b[39m\u001b[32m/opt/homebrew/Cellar/python@3.12/3.12.8/Frameworks/Python.framework/Versions/3.12/lib/python3.12/json/encoder.py:258\u001b[39m, in \u001b[36mJSONEncoder.iterencode\u001b[39m\u001b[34m(self, o, _one_shot)\u001b[39m\n\u001b[32m    253\u001b[39m \u001b[38;5;28;01melse\u001b[39;00m:\n\u001b[32m    254\u001b[39m     _iterencode = _make_iterencode(\n\u001b[32m    255\u001b[39m         markers, \u001b[38;5;28mself\u001b[39m.default, _encoder, \u001b[38;5;28mself\u001b[39m.indent, floatstr,\n\u001b[32m    256\u001b[39m         \u001b[38;5;28mself\u001b[39m.key_separator, \u001b[38;5;28mself\u001b[39m.item_separator, \u001b[38;5;28mself\u001b[39m.sort_keys,\n\u001b[32m    257\u001b[39m         \u001b[38;5;28mself\u001b[39m.skipkeys, _one_shot)\n\u001b[32m--> \u001b[39m\u001b[32m258\u001b[39m \u001b[38;5;28;01mreturn\u001b[39;00m \u001b[43m_iterencode\u001b[49m\u001b[43m(\u001b[49m\u001b[43mo\u001b[49m\u001b[43m,\u001b[49m\u001b[43m \u001b[49m\u001b[32;43m0\u001b[39;49m\u001b[43m)\u001b[49m\n",
      "\u001b[36mFile \u001b[39m\u001b[32m/opt/homebrew/lib/python3.12/site-packages/kubeflow/katib/utils/utils.py:151\u001b[39m, in \u001b[36mSetEncoder.default\u001b[39m\u001b[34m(self, obj)\u001b[39m\n\u001b[32m    149\u001b[39m \u001b[38;5;28;01mif\u001b[39;00m \u001b[38;5;28misinstance\u001b[39m(obj, \u001b[38;5;28mtype\u001b[39m):\n\u001b[32m    150\u001b[39m     \u001b[38;5;28;01mreturn\u001b[39;00m obj.\u001b[34m__name__\u001b[39m\n\u001b[32m--> \u001b[39m\u001b[32m151\u001b[39m \u001b[38;5;28;01mreturn\u001b[39;00m \u001b[43mjson\u001b[49m\u001b[43m.\u001b[49m\u001b[43mJSONEncoder\u001b[49m\u001b[43m.\u001b[49m\u001b[43mdefault\u001b[49m\u001b[43m(\u001b[49m\u001b[38;5;28;43mself\u001b[39;49m\u001b[43m,\u001b[49m\u001b[43m \u001b[49m\u001b[43mobj\u001b[49m\u001b[43m)\u001b[49m\n",
      "\u001b[36mFile \u001b[39m\u001b[32m/opt/homebrew/Cellar/python@3.12/3.12.8/Frameworks/Python.framework/Versions/3.12/lib/python3.12/json/encoder.py:180\u001b[39m, in \u001b[36mJSONEncoder.default\u001b[39m\u001b[34m(self, o)\u001b[39m\n\u001b[32m    161\u001b[39m \u001b[38;5;28;01mdef\u001b[39;00m\u001b[38;5;250m \u001b[39m\u001b[34mdefault\u001b[39m(\u001b[38;5;28mself\u001b[39m, o):\n\u001b[32m    162\u001b[39m \u001b[38;5;250m    \u001b[39m\u001b[33;03m\"\"\"Implement this method in a subclass such that it returns\u001b[39;00m\n\u001b[32m    163\u001b[39m \u001b[33;03m    a serializable object for ``o``, or calls the base implementation\u001b[39;00m\n\u001b[32m    164\u001b[39m \u001b[33;03m    (to raise a ``TypeError``).\u001b[39;00m\n\u001b[32m   (...)\u001b[39m\u001b[32m    178\u001b[39m \n\u001b[32m    179\u001b[39m \u001b[33;03m    \"\"\"\u001b[39;00m\n\u001b[32m--> \u001b[39m\u001b[32m180\u001b[39m     \u001b[38;5;28;01mraise\u001b[39;00m \u001b[38;5;167;01mTypeError\u001b[39;00m(\u001b[33mf\u001b[39m\u001b[33m'\u001b[39m\u001b[33mObject of type \u001b[39m\u001b[38;5;132;01m{\u001b[39;00mo.\u001b[34m__class__\u001b[39m.\u001b[34m__name__\u001b[39m\u001b[38;5;132;01m}\u001b[39;00m\u001b[33m \u001b[39m\u001b[33m'\u001b[39m\n\u001b[32m    181\u001b[39m                     \u001b[33mf\u001b[39m\u001b[33m'\u001b[39m\u001b[33mis not JSON serializable\u001b[39m\u001b[33m'\u001b[39m)\n",
      "\u001b[31mTypeError\u001b[39m: Object of type LoraRuntimeConfig is not JSON serializable"
     ]
    }
   ],
   "source": [
    "# Fine-tuning for Binary Classification\n",
    "exp_name = \"testllm\"\n",
    "cl.tune(\n",
    "    name = exp_name,\n",
    "    model_provider_parameters = hf_model,\n",
    "    dataset_provider_parameters = hf_dataset,\n",
    "    trainer_parameters = hf_tuning_parameters,\n",
    "    objective_metric_name = \"train_loss\",\n",
    "    objective_type = \"minimize\",\n",
    "    algorithm_name = \"random\",\n",
    "    max_trial_count = 10,\n",
    "    parallel_trial_count = 2,\n",
    "    resources_per_trial=resources_per_trial,\n",
    ")\n",
    "\n",
    "cl.wait_for_experiment_condition(name=exp_name)\n",
    "\n",
    "# Get the best hyperparameters.\n",
    "print(cl.get_optimal_hyperparameters(exp_name))"
   ]
  },
  {
   "cell_type": "code",
   "execution_count": null,
   "id": "ec2220c3bc4896af",
   "metadata": {},
   "outputs": [],
   "source": []
  }
 ],
 "metadata": {
  "kernelspec": {
   "display_name": "Python 3",
   "language": "python",
   "name": "python3"
  },
  "language_info": {
   "codemirror_mode": {
    "name": "ipython",
    "version": 3
   },
   "file_extension": ".py",
   "mimetype": "text/x-python",
   "name": "python",
   "nbconvert_exporter": "python",
   "pygments_lexer": "ipython3",
   "version": "3.12.8"
  }
 },
 "nbformat": 4,
 "nbformat_minor": 5
}
