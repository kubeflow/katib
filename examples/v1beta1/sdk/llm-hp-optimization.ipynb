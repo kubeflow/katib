{
 "cells": [
  {
   "metadata": {},
   "cell_type": "markdown",
   "source": "# Explore Kubeflow Katib Hyperparamter Optimization API",
   "id": "58ad086d543ba3a1"
  },
  {
   "metadata": {
    "ExecuteTime": {
     "end_time": "2025-01-27T19:25:02.314305Z",
     "start_time": "2025-01-27T19:25:02.308576Z"
    }
   },
   "cell_type": "code",
   "source": [
    "import sys\n",
    "print(sys.version)"
   ],
   "id": "e32879d3100139f9",
   "outputs": [
    {
     "name": "stdout",
     "output_type": "stream",
     "text": [
      "3.9.21 (main, Dec 11 2024, 10:21:40) \n",
      "[Clang 14.0.6 ]\n"
     ]
    }
   ],
   "execution_count": 2
  },
  {
   "cell_type": "code",
   "id": "initial_id",
   "metadata": {
    "collapsed": true,
    "ExecuteTime": {
     "end_time": "2025-01-27T19:25:12.572178Z",
     "start_time": "2025-01-27T19:25:06.809884Z"
    }
   },
   "source": [
    "!pip install git+https://github.com/kubeflow/katib.git#subdirectory=sdk/python/v1beta1\n",
    "!pip install git+https://github.com/kubeflow/training-operator.git#subdirectory=sdk/python"
   ],
   "outputs": [
    {
     "name": "stdout",
     "output_type": "stream",
     "text": [
      "Collecting git+https://github.com/kubeflow/katib.git#subdirectory=sdk/python/v1beta1\r\n",
      "  Cloning https://github.com/kubeflow/katib.git to /private/var/folders/_z/49hgcx6x4db7pjpfzjcphlcm0000gn/T/pip-req-build-jkz5vj8a\r\n",
      "  Running command git clone --filter=blob:none --quiet https://github.com/kubeflow/katib.git /private/var/folders/_z/49hgcx6x4db7pjpfzjcphlcm0000gn/T/pip-req-build-jkz5vj8a\r\n",
      "  Resolved https://github.com/kubeflow/katib.git to commit 40e1e651f2f665cf8fb523b0f848644dc3036a78\r\n",
      "  Preparing metadata (setup.py) ... \u001B[?25ldone\r\n",
      "\u001B[?25hRequirement already satisfied: certifi>=14.05.14 in /Users/mahdikhashan/miniconda3/envs/llm-hp-optimization-katib-nb/lib/python3.9/site-packages (from kubeflow-katib==0.17.0) (2024.12.14)\r\n",
      "Requirement already satisfied: six>=1.10 in /Users/mahdikhashan/miniconda3/envs/llm-hp-optimization-katib-nb/lib/python3.9/site-packages (from kubeflow-katib==0.17.0) (1.16.0)\r\n",
      "Requirement already satisfied: setuptools>=21.0.0 in /Users/mahdikhashan/miniconda3/envs/llm-hp-optimization-katib-nb/lib/python3.9/site-packages (from kubeflow-katib==0.17.0) (75.1.0)\r\n",
      "Requirement already satisfied: urllib3>=1.15.1 in /Users/mahdikhashan/miniconda3/envs/llm-hp-optimization-katib-nb/lib/python3.9/site-packages (from kubeflow-katib==0.17.0) (2.2.3)\r\n",
      "Requirement already satisfied: kubernetes>=27.2.0 in /Users/mahdikhashan/miniconda3/envs/llm-hp-optimization-katib-nb/lib/python3.9/site-packages (from kubeflow-katib==0.17.0) (31.0.0)\r\n",
      "Requirement already satisfied: grpcio>=1.64.1 in /Users/mahdikhashan/miniconda3/envs/llm-hp-optimization-katib-nb/lib/python3.9/site-packages (from kubeflow-katib==0.17.0) (1.69.0)\r\n",
      "Requirement already satisfied: protobuf<5,>=4.21.12 in /Users/mahdikhashan/miniconda3/envs/llm-hp-optimization-katib-nb/lib/python3.9/site-packages (from kubeflow-katib==0.17.0) (4.25.5)\r\n",
      "Requirement already satisfied: python-dateutil>=2.5.3 in /Users/mahdikhashan/miniconda3/envs/llm-hp-optimization-katib-nb/lib/python3.9/site-packages (from kubernetes>=27.2.0->kubeflow-katib==0.17.0) (2.9.0.post0)\r\n",
      "Requirement already satisfied: pyyaml>=5.4.1 in /Users/mahdikhashan/miniconda3/envs/llm-hp-optimization-katib-nb/lib/python3.9/site-packages (from kubernetes>=27.2.0->kubeflow-katib==0.17.0) (6.0.2)\r\n",
      "Requirement already satisfied: google-auth>=1.0.1 in /Users/mahdikhashan/miniconda3/envs/llm-hp-optimization-katib-nb/lib/python3.9/site-packages (from kubernetes>=27.2.0->kubeflow-katib==0.17.0) (2.37.0)\r\n",
      "Requirement already satisfied: websocket-client!=0.40.0,!=0.41.*,!=0.42.*,>=0.32.0 in /Users/mahdikhashan/miniconda3/envs/llm-hp-optimization-katib-nb/lib/python3.9/site-packages (from kubernetes>=27.2.0->kubeflow-katib==0.17.0) (1.8.0)\r\n",
      "Requirement already satisfied: requests in /Users/mahdikhashan/miniconda3/envs/llm-hp-optimization-katib-nb/lib/python3.9/site-packages (from kubernetes>=27.2.0->kubeflow-katib==0.17.0) (2.32.3)\r\n",
      "Requirement already satisfied: requests-oauthlib in /Users/mahdikhashan/miniconda3/envs/llm-hp-optimization-katib-nb/lib/python3.9/site-packages (from kubernetes>=27.2.0->kubeflow-katib==0.17.0) (2.0.0)\r\n",
      "Requirement already satisfied: oauthlib>=3.2.2 in /Users/mahdikhashan/miniconda3/envs/llm-hp-optimization-katib-nb/lib/python3.9/site-packages (from kubernetes>=27.2.0->kubeflow-katib==0.17.0) (3.2.2)\r\n",
      "Requirement already satisfied: durationpy>=0.7 in /Users/mahdikhashan/miniconda3/envs/llm-hp-optimization-katib-nb/lib/python3.9/site-packages (from kubernetes>=27.2.0->kubeflow-katib==0.17.0) (0.9)\r\n",
      "Requirement already satisfied: cachetools<6.0,>=2.0.0 in /Users/mahdikhashan/miniconda3/envs/llm-hp-optimization-katib-nb/lib/python3.9/site-packages (from google-auth>=1.0.1->kubernetes>=27.2.0->kubeflow-katib==0.17.0) (5.5.0)\r\n",
      "Requirement already satisfied: pyasn1-modules>=0.2.1 in /Users/mahdikhashan/miniconda3/envs/llm-hp-optimization-katib-nb/lib/python3.9/site-packages (from google-auth>=1.0.1->kubernetes>=27.2.0->kubeflow-katib==0.17.0) (0.4.1)\r\n",
      "Requirement already satisfied: rsa<5,>=3.1.4 in /Users/mahdikhashan/miniconda3/envs/llm-hp-optimization-katib-nb/lib/python3.9/site-packages (from google-auth>=1.0.1->kubernetes>=27.2.0->kubeflow-katib==0.17.0) (4.9)\r\n",
      "Requirement already satisfied: charset-normalizer<4,>=2 in /Users/mahdikhashan/miniconda3/envs/llm-hp-optimization-katib-nb/lib/python3.9/site-packages (from requests->kubernetes>=27.2.0->kubeflow-katib==0.17.0) (3.3.2)\r\n",
      "Requirement already satisfied: idna<4,>=2.5 in /Users/mahdikhashan/miniconda3/envs/llm-hp-optimization-katib-nb/lib/python3.9/site-packages (from requests->kubernetes>=27.2.0->kubeflow-katib==0.17.0) (3.7)\r\n",
      "Requirement already satisfied: pyasn1<0.7.0,>=0.4.6 in /Users/mahdikhashan/miniconda3/envs/llm-hp-optimization-katib-nb/lib/python3.9/site-packages (from pyasn1-modules>=0.2.1->google-auth>=1.0.1->kubernetes>=27.2.0->kubeflow-katib==0.17.0) (0.6.1)\r\n",
      "Collecting git+https://github.com/kubeflow/training-operator.git#subdirectory=sdk/python\r\n",
      "  Cloning https://github.com/kubeflow/training-operator.git to /private/var/folders/_z/49hgcx6x4db7pjpfzjcphlcm0000gn/T/pip-req-build-1g8szvmv\r\n",
      "  Running command git clone --filter=blob:none --quiet https://github.com/kubeflow/training-operator.git /private/var/folders/_z/49hgcx6x4db7pjpfzjcphlcm0000gn/T/pip-req-build-1g8szvmv\r\n",
      "  Resolved https://github.com/kubeflow/training-operator.git to commit ee1b691acdb2d605ffe77935aa45c57ac047ed15\r\n",
      "  Preparing metadata (setup.py) ... \u001B[?25ldone\r\n",
      "\u001B[?25hRequirement already satisfied: certifi>=14.05.14 in /Users/mahdikhashan/miniconda3/envs/llm-hp-optimization-katib-nb/lib/python3.9/site-packages (from kubeflow-training==1.8.1) (2024.12.14)\r\n",
      "Requirement already satisfied: six>=1.10 in /Users/mahdikhashan/miniconda3/envs/llm-hp-optimization-katib-nb/lib/python3.9/site-packages (from kubeflow-training==1.8.1) (1.16.0)\r\n",
      "Requirement already satisfied: setuptools>=21.0.0 in /Users/mahdikhashan/miniconda3/envs/llm-hp-optimization-katib-nb/lib/python3.9/site-packages (from kubeflow-training==1.8.1) (75.1.0)\r\n",
      "Requirement already satisfied: urllib3>=1.15.1 in /Users/mahdikhashan/miniconda3/envs/llm-hp-optimization-katib-nb/lib/python3.9/site-packages (from kubeflow-training==1.8.1) (2.2.3)\r\n",
      "Requirement already satisfied: kubernetes>=27.2.0 in /Users/mahdikhashan/miniconda3/envs/llm-hp-optimization-katib-nb/lib/python3.9/site-packages (from kubeflow-training==1.8.1) (31.0.0)\r\n",
      "Requirement already satisfied: retrying>=1.3.3 in /Users/mahdikhashan/miniconda3/envs/llm-hp-optimization-katib-nb/lib/python3.9/site-packages (from kubeflow-training==1.8.1) (1.3.4)\r\n",
      "Requirement already satisfied: python-dateutil>=2.5.3 in /Users/mahdikhashan/miniconda3/envs/llm-hp-optimization-katib-nb/lib/python3.9/site-packages (from kubernetes>=27.2.0->kubeflow-training==1.8.1) (2.9.0.post0)\r\n",
      "Requirement already satisfied: pyyaml>=5.4.1 in /Users/mahdikhashan/miniconda3/envs/llm-hp-optimization-katib-nb/lib/python3.9/site-packages (from kubernetes>=27.2.0->kubeflow-training==1.8.1) (6.0.2)\r\n",
      "Requirement already satisfied: google-auth>=1.0.1 in /Users/mahdikhashan/miniconda3/envs/llm-hp-optimization-katib-nb/lib/python3.9/site-packages (from kubernetes>=27.2.0->kubeflow-training==1.8.1) (2.37.0)\r\n",
      "Requirement already satisfied: websocket-client!=0.40.0,!=0.41.*,!=0.42.*,>=0.32.0 in /Users/mahdikhashan/miniconda3/envs/llm-hp-optimization-katib-nb/lib/python3.9/site-packages (from kubernetes>=27.2.0->kubeflow-training==1.8.1) (1.8.0)\r\n",
      "Requirement already satisfied: requests in /Users/mahdikhashan/miniconda3/envs/llm-hp-optimization-katib-nb/lib/python3.9/site-packages (from kubernetes>=27.2.0->kubeflow-training==1.8.1) (2.32.3)\r\n",
      "Requirement already satisfied: requests-oauthlib in /Users/mahdikhashan/miniconda3/envs/llm-hp-optimization-katib-nb/lib/python3.9/site-packages (from kubernetes>=27.2.0->kubeflow-training==1.8.1) (2.0.0)\r\n",
      "Requirement already satisfied: oauthlib>=3.2.2 in /Users/mahdikhashan/miniconda3/envs/llm-hp-optimization-katib-nb/lib/python3.9/site-packages (from kubernetes>=27.2.0->kubeflow-training==1.8.1) (3.2.2)\r\n",
      "Requirement already satisfied: durationpy>=0.7 in /Users/mahdikhashan/miniconda3/envs/llm-hp-optimization-katib-nb/lib/python3.9/site-packages (from kubernetes>=27.2.0->kubeflow-training==1.8.1) (0.9)\r\n",
      "Requirement already satisfied: cachetools<6.0,>=2.0.0 in /Users/mahdikhashan/miniconda3/envs/llm-hp-optimization-katib-nb/lib/python3.9/site-packages (from google-auth>=1.0.1->kubernetes>=27.2.0->kubeflow-training==1.8.1) (5.5.0)\r\n",
      "Requirement already satisfied: pyasn1-modules>=0.2.1 in /Users/mahdikhashan/miniconda3/envs/llm-hp-optimization-katib-nb/lib/python3.9/site-packages (from google-auth>=1.0.1->kubernetes>=27.2.0->kubeflow-training==1.8.1) (0.4.1)\r\n",
      "Requirement already satisfied: rsa<5,>=3.1.4 in /Users/mahdikhashan/miniconda3/envs/llm-hp-optimization-katib-nb/lib/python3.9/site-packages (from google-auth>=1.0.1->kubernetes>=27.2.0->kubeflow-training==1.8.1) (4.9)\r\n",
      "Requirement already satisfied: charset-normalizer<4,>=2 in /Users/mahdikhashan/miniconda3/envs/llm-hp-optimization-katib-nb/lib/python3.9/site-packages (from requests->kubernetes>=27.2.0->kubeflow-training==1.8.1) (3.3.2)\r\n",
      "Requirement already satisfied: idna<4,>=2.5 in /Users/mahdikhashan/miniconda3/envs/llm-hp-optimization-katib-nb/lib/python3.9/site-packages (from requests->kubernetes>=27.2.0->kubeflow-training==1.8.1) (3.7)\r\n",
      "Requirement already satisfied: pyasn1<0.7.0,>=0.4.6 in /Users/mahdikhashan/miniconda3/envs/llm-hp-optimization-katib-nb/lib/python3.9/site-packages (from pyasn1-modules>=0.2.1->google-auth>=1.0.1->kubernetes>=27.2.0->kubeflow-training==1.8.1) (0.6.1)\r\n"
     ]
    }
   ],
   "execution_count": 3
  },
  {
   "metadata": {
    "ExecuteTime": {
     "end_time": "2025-01-17T12:20:19.685905Z",
     "start_time": "2025-01-17T12:20:18.650415Z"
    }
   },
   "cell_type": "code",
   "source": "!pip install transformers peft",
   "id": "1cd9f378653acfd0",
   "outputs": [
    {
     "name": "stdout",
     "output_type": "stream",
     "text": [
      "Requirement already satisfied: transformers in /Users/mahdikhashan/miniconda3/envs/llm-hp-optimization-katib-nb/lib/python3.9/site-packages (4.48.0)\r\n",
      "Requirement already satisfied: peft in /Users/mahdikhashan/miniconda3/envs/llm-hp-optimization-katib-nb/lib/python3.9/site-packages (0.14.0)\r\n",
      "Requirement already satisfied: filelock in /Users/mahdikhashan/miniconda3/envs/llm-hp-optimization-katib-nb/lib/python3.9/site-packages (from transformers) (3.16.1)\r\n",
      "Requirement already satisfied: huggingface-hub<1.0,>=0.24.0 in /Users/mahdikhashan/miniconda3/envs/llm-hp-optimization-katib-nb/lib/python3.9/site-packages (from transformers) (0.27.1)\r\n",
      "Requirement already satisfied: numpy>=1.17 in /Users/mahdikhashan/miniconda3/envs/llm-hp-optimization-katib-nb/lib/python3.9/site-packages (from transformers) (2.0.2)\r\n",
      "Requirement already satisfied: packaging>=20.0 in /Users/mahdikhashan/miniconda3/envs/llm-hp-optimization-katib-nb/lib/python3.9/site-packages (from transformers) (24.2)\r\n",
      "Requirement already satisfied: pyyaml>=5.1 in /Users/mahdikhashan/miniconda3/envs/llm-hp-optimization-katib-nb/lib/python3.9/site-packages (from transformers) (6.0.2)\r\n",
      "Requirement already satisfied: regex!=2019.12.17 in /Users/mahdikhashan/miniconda3/envs/llm-hp-optimization-katib-nb/lib/python3.9/site-packages (from transformers) (2024.11.6)\r\n",
      "Requirement already satisfied: requests in /Users/mahdikhashan/miniconda3/envs/llm-hp-optimization-katib-nb/lib/python3.9/site-packages (from transformers) (2.32.3)\r\n",
      "Requirement already satisfied: tokenizers<0.22,>=0.21 in /Users/mahdikhashan/miniconda3/envs/llm-hp-optimization-katib-nb/lib/python3.9/site-packages (from transformers) (0.21.0)\r\n",
      "Requirement already satisfied: safetensors>=0.4.1 in /Users/mahdikhashan/miniconda3/envs/llm-hp-optimization-katib-nb/lib/python3.9/site-packages (from transformers) (0.5.2)\r\n",
      "Requirement already satisfied: tqdm>=4.27 in /Users/mahdikhashan/miniconda3/envs/llm-hp-optimization-katib-nb/lib/python3.9/site-packages (from transformers) (4.67.1)\r\n",
      "Requirement already satisfied: psutil in /Users/mahdikhashan/miniconda3/envs/llm-hp-optimization-katib-nb/lib/python3.9/site-packages (from peft) (5.9.0)\r\n",
      "Requirement already satisfied: torch>=1.13.0 in /Users/mahdikhashan/miniconda3/envs/llm-hp-optimization-katib-nb/lib/python3.9/site-packages (from peft) (2.5.1)\r\n",
      "Requirement already satisfied: accelerate>=0.21.0 in /Users/mahdikhashan/miniconda3/envs/llm-hp-optimization-katib-nb/lib/python3.9/site-packages (from peft) (1.2.1)\r\n",
      "Requirement already satisfied: fsspec>=2023.5.0 in /Users/mahdikhashan/miniconda3/envs/llm-hp-optimization-katib-nb/lib/python3.9/site-packages (from huggingface-hub<1.0,>=0.24.0->transformers) (2024.12.0)\r\n",
      "Requirement already satisfied: typing-extensions>=3.7.4.3 in /Users/mahdikhashan/miniconda3/envs/llm-hp-optimization-katib-nb/lib/python3.9/site-packages (from huggingface-hub<1.0,>=0.24.0->transformers) (4.12.2)\r\n",
      "Requirement already satisfied: networkx in /Users/mahdikhashan/miniconda3/envs/llm-hp-optimization-katib-nb/lib/python3.9/site-packages (from torch>=1.13.0->peft) (3.2.1)\r\n",
      "Requirement already satisfied: jinja2 in /Users/mahdikhashan/miniconda3/envs/llm-hp-optimization-katib-nb/lib/python3.9/site-packages (from torch>=1.13.0->peft) (3.1.4)\r\n",
      "Requirement already satisfied: sympy==1.13.1 in /Users/mahdikhashan/miniconda3/envs/llm-hp-optimization-katib-nb/lib/python3.9/site-packages (from torch>=1.13.0->peft) (1.13.1)\r\n",
      "Requirement already satisfied: mpmath<1.4,>=1.1.0 in /Users/mahdikhashan/miniconda3/envs/llm-hp-optimization-katib-nb/lib/python3.9/site-packages (from sympy==1.13.1->torch>=1.13.0->peft) (1.3.0)\r\n",
      "Requirement already satisfied: charset-normalizer<4,>=2 in /Users/mahdikhashan/miniconda3/envs/llm-hp-optimization-katib-nb/lib/python3.9/site-packages (from requests->transformers) (3.3.2)\r\n",
      "Requirement already satisfied: idna<4,>=2.5 in /Users/mahdikhashan/miniconda3/envs/llm-hp-optimization-katib-nb/lib/python3.9/site-packages (from requests->transformers) (3.7)\r\n",
      "Requirement already satisfied: urllib3<3,>=1.21.1 in /Users/mahdikhashan/miniconda3/envs/llm-hp-optimization-katib-nb/lib/python3.9/site-packages (from requests->transformers) (2.2.3)\r\n",
      "Requirement already satisfied: certifi>=2017.4.17 in /Users/mahdikhashan/miniconda3/envs/llm-hp-optimization-katib-nb/lib/python3.9/site-packages (from requests->transformers) (2024.12.14)\r\n",
      "Requirement already satisfied: MarkupSafe>=2.0 in /Users/mahdikhashan/miniconda3/envs/llm-hp-optimization-katib-nb/lib/python3.9/site-packages (from jinja2->torch>=1.13.0->peft) (2.1.3)\r\n"
     ]
    }
   ],
   "execution_count": 1
  },
  {
   "metadata": {
    "ExecuteTime": {
     "end_time": "2025-01-16T14:24:28.811618Z",
     "start_time": "2025-01-16T14:24:28.787993Z"
    }
   },
   "cell_type": "code",
   "source": [
    "# from kubeflow.katib.types.trainer_resources import TrainerResources\n",
    "# \n",
    "# \n",
    "# resources_per_trial = TrainerResources(\n",
    "#     num_workers=4,                    # Number of distributed workers\n",
    "#     num_procs_per_worker=2,           # Processes per worker\n",
    "#     resources_per_worker={            # Resource allocation per worker\n",
    "#         \"gpu\": 2,                     # Number of GPUs\n",
    "#         \"cpu\": 5,                     # Number of CPUs\n",
    "#         \"memory\": \"10G\",              # Memory allocation\n",
    "#     },\n",
    "# )\n"
   ],
   "id": "f785c7083c5c90ba",
   "outputs": [],
   "execution_count": 51
  },
  {
   "metadata": {
    "ExecuteTime": {
     "end_time": "2025-01-17T12:20:49.638178Z",
     "start_time": "2025-01-17T12:20:49.630290Z"
    }
   },
   "cell_type": "code",
   "source": [
    "import kubeflow.katib as katib\n",
    "from kubeflow.katib import KatibClient\n",
    "\n",
    "from transformers import AutoModelForSequenceClassification, TrainingArguments\n",
    "from peft import LoraConfig\n",
    "\n",
    "from kubeflow.storage_initializer.hugging_face import (\n",
    "    HuggingFaceModelParams,\n",
    "    HuggingFaceDatasetParams,\n",
    "    HuggingFaceTrainerParams,\n",
    ")"
   ],
   "id": "1446506988a7b011",
   "outputs": [],
   "execution_count": 6
  },
  {
   "metadata": {
    "ExecuteTime": {
     "end_time": "2025-01-17T12:21:44.148523Z",
     "start_time": "2025-01-17T12:21:44.123292Z"
    }
   },
   "cell_type": "code",
   "source": [
    "hf_model = HuggingFaceModelParams(\n",
    "    model_uri = \"hf://meta-llama/Llama-3.2-1B\",\n",
    "    transformer_type = AutoModelForSequenceClassification,\n",
    ")\n",
    "\n",
    "# Train the model on 1000 movie reviews from imdb\n",
    "# https://huggingface.co/datasets/stanfordnlp/imdb\n",
    "hf_dataset = HuggingFaceDatasetParams(\n",
    "    repo_id = \"imdb\",\n",
    "    split = \"train[:1000]\",\n",
    ")\n",
    "\n",
    "hf_tuning_parameters = HuggingFaceTrainerParams(\n",
    "    training_parameters = TrainingArguments(\n",
    "        output_dir = \"results\",\n",
    "        save_strategy = \"no\",\n",
    "        hub_strategy=\"all_checkpoints\",\n",
    "        learning_rate = 1e-05, #katib.search.double(min=1e-05, max=5e-05),\n",
    "        num_train_epochs=3,\n",
    "    )\n",
    ")"
   ],
   "id": "45c5a2476e1bffb7",
   "outputs": [],
   "execution_count": 16
  },
  {
   "metadata": {
    "ExecuteTime": {
     "end_time": "2025-01-17T12:21:45.340258Z",
     "start_time": "2025-01-17T12:21:44.781590Z"
    }
   },
   "cell_type": "code",
   "source": "cl = KatibClient(namespace=\"kubeflow\")",
   "id": "c7995d6934399e6c",
   "outputs": [],
   "execution_count": 17
  },
  {
   "metadata": {
    "ExecuteTime": {
     "end_time": "2025-01-17T12:21:52.888509Z",
     "start_time": "2025-01-17T12:21:52.362248Z"
    }
   },
   "cell_type": "code",
   "source": [
    "# Fine-tuning for Binary Classification\n",
    "exp_name = \"testllm\"\n",
    "cl.tune(\n",
    "    name = exp_name,\n",
    "    model_provider_parameters = hf_model,\n",
    "    dataset_provider_parameters = hf_dataset,\n",
    "    trainer_parameters = hf_tuning_parameters,\n",
    "    objective_metric_name = \"train_loss\",\n",
    "    objective_type = \"minimize\",\n",
    "    algorithm_name = \"random\",\n",
    "    max_trial_count = 10,\n",
    "    parallel_trial_count = 2,\n",
    "    resources_per_trial={\n",
    "        \"gpu\": \"2\",\n",
    "        \"cpu\": \"4\",\n",
    "        \"memory\": \"10G\",\n",
    "    },\n",
    ")\n",
    "\n",
    "cl.wait_for_experiment_condition(name=exp_name)\n",
    "\n",
    "# Get the best hyperparameters.\n",
    "print(cl.get_optimal_hyperparameters(exp_name))"
   ],
   "id": "5a519aa3bcd8ce5",
   "outputs": [
    {
     "name": "stdout",
     "output_type": "stream",
     "text": [
      "Thank you for using `tune` API for LLM hyperparameter optimization. This feature is in the alpha stage. Kubeflow community is looking for your feedback. Please share your experience via #kubeflow-katib Slack channel or the Kubeflow Katib GitHub.\n",
      "PVC 'testllm' already exists in namespace kubeflow.\n"
     ]
    },
    {
     "ename": "ValueError",
     "evalue": "<HUB_TOKEN> is not a valid HubStrategy, please select one of ['end', 'every_save', 'checkpoint', 'all_checkpoints']",
     "output_type": "error",
     "traceback": [
      "\u001B[0;31m---------------------------------------------------------------------------\u001B[0m",
      "\u001B[0;31mValueError\u001B[0m                                Traceback (most recent call last)",
      "\u001B[0;31mValueError\u001B[0m: '<HUB_TOKEN>' is not a valid HubStrategy",
      "\nDuring handling of the above exception, another exception occurred:\n",
      "\u001B[0;31mValueError\u001B[0m                                Traceback (most recent call last)",
      "Cell \u001B[0;32mIn[19], line 3\u001B[0m\n\u001B[1;32m      1\u001B[0m \u001B[38;5;66;03m# Fine-tuning for Binary Classification\u001B[39;00m\n\u001B[1;32m      2\u001B[0m exp_name \u001B[38;5;241m=\u001B[39m \u001B[38;5;124m\"\u001B[39m\u001B[38;5;124mtestllm\u001B[39m\u001B[38;5;124m\"\u001B[39m\n\u001B[0;32m----> 3\u001B[0m \u001B[43mcl\u001B[49m\u001B[38;5;241;43m.\u001B[39;49m\u001B[43mtune\u001B[49m\u001B[43m(\u001B[49m\n\u001B[1;32m      4\u001B[0m \u001B[43m    \u001B[49m\u001B[43mname\u001B[49m\u001B[43m \u001B[49m\u001B[38;5;241;43m=\u001B[39;49m\u001B[43m \u001B[49m\u001B[43mexp_name\u001B[49m\u001B[43m,\u001B[49m\n\u001B[1;32m      5\u001B[0m \u001B[43m    \u001B[49m\u001B[43mmodel_provider_parameters\u001B[49m\u001B[43m \u001B[49m\u001B[38;5;241;43m=\u001B[39;49m\u001B[43m \u001B[49m\u001B[43mhf_model\u001B[49m\u001B[43m,\u001B[49m\n\u001B[1;32m      6\u001B[0m \u001B[43m    \u001B[49m\u001B[43mdataset_provider_parameters\u001B[49m\u001B[43m \u001B[49m\u001B[38;5;241;43m=\u001B[39;49m\u001B[43m \u001B[49m\u001B[43mhf_dataset\u001B[49m\u001B[43m,\u001B[49m\n\u001B[1;32m      7\u001B[0m \u001B[43m    \u001B[49m\u001B[43mtrainer_parameters\u001B[49m\u001B[43m \u001B[49m\u001B[38;5;241;43m=\u001B[39;49m\u001B[43m \u001B[49m\u001B[43mhf_tuning_parameters\u001B[49m\u001B[43m,\u001B[49m\n\u001B[1;32m      8\u001B[0m \u001B[43m    \u001B[49m\u001B[43mobjective_metric_name\u001B[49m\u001B[43m \u001B[49m\u001B[38;5;241;43m=\u001B[39;49m\u001B[43m \u001B[49m\u001B[38;5;124;43m\"\u001B[39;49m\u001B[38;5;124;43mtrain_loss\u001B[39;49m\u001B[38;5;124;43m\"\u001B[39;49m\u001B[43m,\u001B[49m\n\u001B[1;32m      9\u001B[0m \u001B[43m    \u001B[49m\u001B[43mobjective_type\u001B[49m\u001B[43m \u001B[49m\u001B[38;5;241;43m=\u001B[39;49m\u001B[43m \u001B[49m\u001B[38;5;124;43m\"\u001B[39;49m\u001B[38;5;124;43mminimize\u001B[39;49m\u001B[38;5;124;43m\"\u001B[39;49m\u001B[43m,\u001B[49m\n\u001B[1;32m     10\u001B[0m \u001B[43m    \u001B[49m\u001B[43malgorithm_name\u001B[49m\u001B[43m \u001B[49m\u001B[38;5;241;43m=\u001B[39;49m\u001B[43m \u001B[49m\u001B[38;5;124;43m\"\u001B[39;49m\u001B[38;5;124;43mrandom\u001B[39;49m\u001B[38;5;124;43m\"\u001B[39;49m\u001B[43m,\u001B[49m\n\u001B[1;32m     11\u001B[0m \u001B[43m    \u001B[49m\u001B[43mmax_trial_count\u001B[49m\u001B[43m \u001B[49m\u001B[38;5;241;43m=\u001B[39;49m\u001B[43m \u001B[49m\u001B[38;5;241;43m10\u001B[39;49m\u001B[43m,\u001B[49m\n\u001B[1;32m     12\u001B[0m \u001B[43m    \u001B[49m\u001B[43mparallel_trial_count\u001B[49m\u001B[43m \u001B[49m\u001B[38;5;241;43m=\u001B[39;49m\u001B[43m \u001B[49m\u001B[38;5;241;43m2\u001B[39;49m\u001B[43m,\u001B[49m\n\u001B[1;32m     13\u001B[0m \u001B[43m    \u001B[49m\u001B[43mresources_per_trial\u001B[49m\u001B[38;5;241;43m=\u001B[39;49m\u001B[43m{\u001B[49m\n\u001B[1;32m     14\u001B[0m \u001B[43m        \u001B[49m\u001B[38;5;124;43m\"\u001B[39;49m\u001B[38;5;124;43mgpu\u001B[39;49m\u001B[38;5;124;43m\"\u001B[39;49m\u001B[43m:\u001B[49m\u001B[43m \u001B[49m\u001B[38;5;124;43m\"\u001B[39;49m\u001B[38;5;124;43m2\u001B[39;49m\u001B[38;5;124;43m\"\u001B[39;49m\u001B[43m,\u001B[49m\n\u001B[1;32m     15\u001B[0m \u001B[43m        \u001B[49m\u001B[38;5;124;43m\"\u001B[39;49m\u001B[38;5;124;43mcpu\u001B[39;49m\u001B[38;5;124;43m\"\u001B[39;49m\u001B[43m:\u001B[49m\u001B[43m \u001B[49m\u001B[38;5;124;43m\"\u001B[39;49m\u001B[38;5;124;43m4\u001B[39;49m\u001B[38;5;124;43m\"\u001B[39;49m\u001B[43m,\u001B[49m\n\u001B[1;32m     16\u001B[0m \u001B[43m        \u001B[49m\u001B[38;5;124;43m\"\u001B[39;49m\u001B[38;5;124;43mmemory\u001B[39;49m\u001B[38;5;124;43m\"\u001B[39;49m\u001B[43m:\u001B[49m\u001B[43m \u001B[49m\u001B[38;5;124;43m\"\u001B[39;49m\u001B[38;5;124;43m10G\u001B[39;49m\u001B[38;5;124;43m\"\u001B[39;49m\u001B[43m,\u001B[49m\n\u001B[1;32m     17\u001B[0m \u001B[43m    \u001B[49m\u001B[43m}\u001B[49m\u001B[43m,\u001B[49m\n\u001B[1;32m     18\u001B[0m \u001B[43m)\u001B[49m\n\u001B[1;32m     20\u001B[0m cl\u001B[38;5;241m.\u001B[39mwait_for_experiment_condition(name\u001B[38;5;241m=\u001B[39mexp_name)\n\u001B[1;32m     22\u001B[0m \u001B[38;5;66;03m# Get the best hyperparameters.\u001B[39;00m\n",
      "File \u001B[0;32m~/miniconda3/envs/llm-hp-optimization-katib-nb/lib/python3.9/site-packages/kubeflow/katib/api/katib_client.py:602\u001B[0m, in \u001B[0;36mKatibClient.tune\u001B[0;34m(self, name, model_provider_parameters, dataset_provider_parameters, trainer_parameters, storage_config, objective, base_image, parameters, namespace, env_per_trial, algorithm_name, algorithm_settings, objective_metric_name, additional_metric_names, objective_type, objective_goal, max_trial_count, parallel_trial_count, max_failed_trial_count, resources_per_trial, retain_trials, packages_to_install, pip_index_url, metrics_collector_config)\u001B[0m\n\u001B[1;32m    600\u001B[0m experiment_params \u001B[38;5;241m=\u001B[39m []\n\u001B[1;32m    601\u001B[0m trial_params \u001B[38;5;241m=\u001B[39m []\n\u001B[0;32m--> 602\u001B[0m training_args \u001B[38;5;241m=\u001B[39m \u001B[43mutils\u001B[49m\u001B[38;5;241;43m.\u001B[39;49m\u001B[43mget_trial_substitutions_from_trainer\u001B[49m\u001B[43m(\u001B[49m\n\u001B[1;32m    603\u001B[0m \u001B[43m    \u001B[49m\u001B[43mtrainer_parameters\u001B[49m\u001B[38;5;241;43m.\u001B[39;49m\u001B[43mtraining_parameters\u001B[49m\u001B[43m,\u001B[49m\u001B[43m \u001B[49m\u001B[43mexperiment_params\u001B[49m\u001B[43m,\u001B[49m\u001B[43m \u001B[49m\u001B[43mtrial_params\u001B[49m\n\u001B[1;32m    604\u001B[0m \u001B[43m\u001B[49m\u001B[43m)\u001B[49m\n\u001B[1;32m    605\u001B[0m lora_config \u001B[38;5;241m=\u001B[39m utils\u001B[38;5;241m.\u001B[39mget_trial_substitutions_from_trainer(\n\u001B[1;32m    606\u001B[0m     trainer_parameters\u001B[38;5;241m.\u001B[39mlora_config, experiment_params, trial_params\n\u001B[1;32m    607\u001B[0m )\n\u001B[1;32m    609\u001B[0m \u001B[38;5;66;03m# Create the init and the primary container.\u001B[39;00m\n",
      "File \u001B[0;32m~/miniconda3/envs/llm-hp-optimization-katib-nb/lib/python3.9/site-packages/kubeflow/katib/utils/utils.py:207\u001B[0m, in \u001B[0;36mget_trial_substitutions_from_trainer\u001B[0;34m(parameters, experiment_params, trial_params)\u001B[0m\n\u001B[1;32m    205\u001B[0m                 value \u001B[38;5;241m=\u001B[39m copy\u001B[38;5;241m.\u001B[39mdeepcopy(p_value)\n\u001B[1;32m    206\u001B[0m             \u001B[38;5;28;01melse\u001B[39;00m:\n\u001B[0;32m--> 207\u001B[0m                 value \u001B[38;5;241m=\u001B[39m \u001B[38;5;28;43mtype\u001B[39;49m\u001B[43m(\u001B[49m\u001B[43mold_attr\u001B[49m\u001B[43m)\u001B[49m\u001B[43m(\u001B[49m\u001B[43mp_value\u001B[49m\u001B[43m)\u001B[49m\n\u001B[1;32m    208\u001B[0m         \u001B[38;5;28msetattr\u001B[39m(parameters, p_name, value)\n\u001B[1;32m    210\u001B[0m \u001B[38;5;28;01mif\u001B[39;00m \u001B[38;5;28misinstance\u001B[39m(parameters, TrainingArguments):\n",
      "File \u001B[0;32m~/miniconda3/envs/llm-hp-optimization-katib-nb/lib/python3.9/enum.py:384\u001B[0m, in \u001B[0;36mEnumMeta.__call__\u001B[0;34m(cls, value, names, module, qualname, type, start)\u001B[0m\n\u001B[1;32m    359\u001B[0m \u001B[38;5;250m\u001B[39m\u001B[38;5;124;03m\"\"\"\u001B[39;00m\n\u001B[1;32m    360\u001B[0m \u001B[38;5;124;03mEither returns an existing member, or creates a new enum class.\u001B[39;00m\n\u001B[1;32m    361\u001B[0m \n\u001B[0;32m   (...)\u001B[0m\n\u001B[1;32m    381\u001B[0m \u001B[38;5;124;03m`type`, if set, will be mixed in as the first base class.\u001B[39;00m\n\u001B[1;32m    382\u001B[0m \u001B[38;5;124;03m\"\"\"\u001B[39;00m\n\u001B[1;32m    383\u001B[0m \u001B[38;5;28;01mif\u001B[39;00m names \u001B[38;5;129;01mis\u001B[39;00m \u001B[38;5;28;01mNone\u001B[39;00m:  \u001B[38;5;66;03m# simple value lookup\u001B[39;00m\n\u001B[0;32m--> 384\u001B[0m     \u001B[38;5;28;01mreturn\u001B[39;00m \u001B[38;5;28;43mcls\u001B[39;49m\u001B[38;5;241;43m.\u001B[39;49m\u001B[38;5;21;43m__new__\u001B[39;49m\u001B[43m(\u001B[49m\u001B[38;5;28;43mcls\u001B[39;49m\u001B[43m,\u001B[49m\u001B[43m \u001B[49m\u001B[43mvalue\u001B[49m\u001B[43m)\u001B[49m\n\u001B[1;32m    385\u001B[0m \u001B[38;5;66;03m# otherwise, functional API: we're creating a new Enum type\u001B[39;00m\n\u001B[1;32m    386\u001B[0m \u001B[38;5;28;01mreturn\u001B[39;00m \u001B[38;5;28mcls\u001B[39m\u001B[38;5;241m.\u001B[39m_create_(\n\u001B[1;32m    387\u001B[0m         value,\n\u001B[1;32m    388\u001B[0m         names,\n\u001B[0;32m   (...)\u001B[0m\n\u001B[1;32m    392\u001B[0m         start\u001B[38;5;241m=\u001B[39mstart,\n\u001B[1;32m    393\u001B[0m         )\n",
      "File \u001B[0;32m~/miniconda3/envs/llm-hp-optimization-katib-nb/lib/python3.9/enum.py:709\u001B[0m, in \u001B[0;36mEnum.__new__\u001B[0;34m(cls, value)\u001B[0m\n\u001B[1;32m    704\u001B[0m             exc \u001B[38;5;241m=\u001B[39m \u001B[38;5;167;01mTypeError\u001B[39;00m(\n\u001B[1;32m    705\u001B[0m                     \u001B[38;5;124m'\u001B[39m\u001B[38;5;124merror in \u001B[39m\u001B[38;5;132;01m%s\u001B[39;00m\u001B[38;5;124m._missing_: returned \u001B[39m\u001B[38;5;132;01m%r\u001B[39;00m\u001B[38;5;124m instead of None or a valid member\u001B[39m\u001B[38;5;124m'\u001B[39m\n\u001B[1;32m    706\u001B[0m                     \u001B[38;5;241m%\u001B[39m (\u001B[38;5;28mcls\u001B[39m\u001B[38;5;241m.\u001B[39m\u001B[38;5;18m__name__\u001B[39m, result)\n\u001B[1;32m    707\u001B[0m                     )\n\u001B[1;32m    708\u001B[0m         exc\u001B[38;5;241m.\u001B[39m__context__ \u001B[38;5;241m=\u001B[39m ve_exc\n\u001B[0;32m--> 709\u001B[0m         \u001B[38;5;28;01mraise\u001B[39;00m exc\n\u001B[1;32m    710\u001B[0m \u001B[38;5;28;01mfinally\u001B[39;00m:\n\u001B[1;32m    711\u001B[0m     \u001B[38;5;66;03m# ensure all variables that could hold an exception are destroyed\u001B[39;00m\n\u001B[1;32m    712\u001B[0m     exc \u001B[38;5;241m=\u001B[39m \u001B[38;5;28;01mNone\u001B[39;00m\n",
      "File \u001B[0;32m~/miniconda3/envs/llm-hp-optimization-katib-nb/lib/python3.9/enum.py:692\u001B[0m, in \u001B[0;36mEnum.__new__\u001B[0;34m(cls, value)\u001B[0m\n\u001B[1;32m    690\u001B[0m \u001B[38;5;28;01mtry\u001B[39;00m:\n\u001B[1;32m    691\u001B[0m     exc \u001B[38;5;241m=\u001B[39m \u001B[38;5;28;01mNone\u001B[39;00m\n\u001B[0;32m--> 692\u001B[0m     result \u001B[38;5;241m=\u001B[39m \u001B[38;5;28;43mcls\u001B[39;49m\u001B[38;5;241;43m.\u001B[39;49m\u001B[43m_missing_\u001B[49m\u001B[43m(\u001B[49m\u001B[43mvalue\u001B[49m\u001B[43m)\u001B[49m\n\u001B[1;32m    693\u001B[0m \u001B[38;5;28;01mexcept\u001B[39;00m \u001B[38;5;167;01mException\u001B[39;00m \u001B[38;5;28;01mas\u001B[39;00m e:\n\u001B[1;32m    694\u001B[0m     exc \u001B[38;5;241m=\u001B[39m e\n",
      "File \u001B[0;32m~/miniconda3/envs/llm-hp-optimization-katib-nb/lib/python3.9/site-packages/transformers/utils/generic.py:498\u001B[0m, in \u001B[0;36mExplicitEnum._missing_\u001B[0;34m(cls, value)\u001B[0m\n\u001B[1;32m    496\u001B[0m \u001B[38;5;129m@classmethod\u001B[39m\n\u001B[1;32m    497\u001B[0m \u001B[38;5;28;01mdef\u001B[39;00m \u001B[38;5;21m_missing_\u001B[39m(\u001B[38;5;28mcls\u001B[39m, value):\n\u001B[0;32m--> 498\u001B[0m     \u001B[38;5;28;01mraise\u001B[39;00m \u001B[38;5;167;01mValueError\u001B[39;00m(\n\u001B[1;32m    499\u001B[0m         \u001B[38;5;124mf\u001B[39m\u001B[38;5;124m\"\u001B[39m\u001B[38;5;132;01m{\u001B[39;00mvalue\u001B[38;5;132;01m}\u001B[39;00m\u001B[38;5;124m is not a valid \u001B[39m\u001B[38;5;132;01m{\u001B[39;00m\u001B[38;5;28mcls\u001B[39m\u001B[38;5;241m.\u001B[39m\u001B[38;5;18m__name__\u001B[39m\u001B[38;5;132;01m}\u001B[39;00m\u001B[38;5;124m, please select one of \u001B[39m\u001B[38;5;132;01m{\u001B[39;00m\u001B[38;5;28mlist\u001B[39m(\u001B[38;5;28mcls\u001B[39m\u001B[38;5;241m.\u001B[39m_value2member_map_\u001B[38;5;241m.\u001B[39mkeys())\u001B[38;5;132;01m}\u001B[39;00m\u001B[38;5;124m\"\u001B[39m\n\u001B[1;32m    500\u001B[0m     )\n",
      "\u001B[0;31mValueError\u001B[0m: <HUB_TOKEN> is not a valid HubStrategy, please select one of ['end', 'every_save', 'checkpoint', 'all_checkpoints']"
     ]
    }
   ],
   "execution_count": 19
  },
  {
   "metadata": {},
   "cell_type": "code",
   "outputs": [],
   "execution_count": null,
   "source": "",
   "id": "ec2220c3bc4896af"
  }
 ],
 "metadata": {
  "kernelspec": {
   "display_name": "Python 3",
   "language": "python",
   "name": "python3"
  },
  "language_info": {
   "codemirror_mode": {
    "name": "ipython",
    "version": 2
   },
   "file_extension": ".py",
   "mimetype": "text/x-python",
   "name": "python",
   "nbconvert_exporter": "python",
   "pygments_lexer": "ipython2",
   "version": "2.7.6"
  }
 },
 "nbformat": 4,
 "nbformat_minor": 5
}
